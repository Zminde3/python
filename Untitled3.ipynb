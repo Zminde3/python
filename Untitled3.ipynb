{
 "cells": [
  {
   "cell_type": "code",
   "execution_count": 1,
   "id": "fc5c158b-87a6-460f-ba21-b2ea0a7d5b9d",
   "metadata": {},
   "outputs": [],
   "source": [
    "%load_ext sql\n"
   ]
  },
  {
   "cell_type": "code",
   "execution_count": 2,
   "id": "e8a8363d-a3f6-4276-ab9d-aea470e43f27",
   "metadata": {},
   "outputs": [],
   "source": [
    "%sql sqlite:///mokytojai.db\n"
   ]
  },
  {
   "cell_type": "code",
   "execution_count": 3,
   "id": "4e9408a8-af86-4b74-b5f3-5510ee22b1b0",
   "metadata": {},
   "outputs": [
    {
     "name": "stdout",
     "output_type": "stream",
     "text": [
      " * sqlite:///mokytojai.db\n",
      "Done.\n"
     ]
    },
    {
     "data": {
      "text/plain": [
       "[]"
      ]
     },
     "execution_count": 3,
     "metadata": {},
     "output_type": "execute_result"
    }
   ],
   "source": [
    "%%sql\n",
    "CREATE TABLE IF NOT EXISTS mokytojai (\n",
    "    id INTEGER PRIMARY KEY AUTOINCREMENT,\n",
    "    vardas TEXT,\n",
    "    pavarde TEXT,\n",
    "    destomas_dalykas TEXT,\n",
    "    atlyginimas REAL\n",
    ");\n"
   ]
  },
  {
   "cell_type": "code",
   "execution_count": 4,
   "id": "cc8556b4-4720-4f20-a398-03a89b05f56e",
   "metadata": {},
   "outputs": [
    {
     "name": "stdout",
     "output_type": "stream",
     "text": [
      " * sqlite:///mokytojai.db\n",
      "(sqlite3.OperationalError) table mokytojai has no column named destomas_dalykas\n",
      "[SQL: INSERT INTO mokytojai (vardas, pavarde, destomas_dalykas, atlyginimas) VALUES\n",
      "('Jonas', 'Jonaitis', 'Matematika', 1500),\n",
      "('Petras', 'Petraitis', 'Fizika', 1800),\n",
      "('Ona', 'Onaitytė', 'Lietuvių kalba', 1600),\n",
      "('Rasa', 'Rasaitė', 'Istorija', 1750);]\n",
      "(Background on this error at: https://sqlalche.me/e/20/e3q8)\n"
     ]
    }
   ],
   "source": [
    "%%sql\n",
    "INSERT INTO mokytojai (vardas, pavarde, destomas_dalykas, atlyginimas) VALUES\n",
    "('Jonas', 'Jonaitis', 'Matematika', 1500),\n",
    "('Petras', 'Petraitis', 'Fizika', 1800),\n",
    "('Ona', 'Onaitytė', 'Lietuvių kalba', 1600),\n",
    "('Rasa', 'Rasaitė', 'Istorija', 1750);\n"
   ]
  },
  {
   "cell_type": "code",
   "execution_count": 5,
   "id": "46521083-0bf3-431d-a3b2-6e76e10cda1f",
   "metadata": {},
   "outputs": [
    {
     "name": "stdout",
     "output_type": "stream",
     "text": [
      " * sqlite:///mokytojai.db\n",
      "Done.\n"
     ]
    },
    {
     "ename": "KeyError",
     "evalue": "'DEFAULT'",
     "output_type": "error",
     "traceback": [
      "\u001b[1;31m---------------------------------------------------------------------------\u001b[0m",
      "\u001b[1;31mKeyError\u001b[0m                                  Traceback (most recent call last)",
      "Cell \u001b[1;32mIn[5], line 1\u001b[0m\n\u001b[1;32m----> 1\u001b[0m \u001b[43mget_ipython\u001b[49m\u001b[43m(\u001b[49m\u001b[43m)\u001b[49m\u001b[38;5;241;43m.\u001b[39;49m\u001b[43mrun_cell_magic\u001b[49m\u001b[43m(\u001b[49m\u001b[38;5;124;43m'\u001b[39;49m\u001b[38;5;124;43msql\u001b[39;49m\u001b[38;5;124;43m'\u001b[39;49m\u001b[43m,\u001b[49m\u001b[43m \u001b[49m\u001b[38;5;124;43m'\u001b[39;49m\u001b[38;5;124;43m'\u001b[39;49m\u001b[43m,\u001b[49m\u001b[43m \u001b[49m\u001b[38;5;124;43m'\u001b[39;49m\u001b[38;5;124;43mSELECT * FROM mokytojai;\u001b[39;49m\u001b[38;5;130;43;01m\\n\u001b[39;49;00m\u001b[38;5;124;43m'\u001b[39;49m\u001b[43m)\u001b[49m\n",
      "File \u001b[1;32m~\\Desktop\\PYTHON\\.venv\\lib\\site-packages\\IPython\\core\\interactiveshell.py:2543\u001b[0m, in \u001b[0;36mInteractiveShell.run_cell_magic\u001b[1;34m(self, magic_name, line, cell)\u001b[0m\n\u001b[0;32m   2541\u001b[0m \u001b[38;5;28;01mwith\u001b[39;00m \u001b[38;5;28mself\u001b[39m\u001b[38;5;241m.\u001b[39mbuiltin_trap:\n\u001b[0;32m   2542\u001b[0m     args \u001b[38;5;241m=\u001b[39m (magic_arg_s, cell)\n\u001b[1;32m-> 2543\u001b[0m     result \u001b[38;5;241m=\u001b[39m fn(\u001b[38;5;241m*\u001b[39margs, \u001b[38;5;241m*\u001b[39m\u001b[38;5;241m*\u001b[39mkwargs)\n\u001b[0;32m   2545\u001b[0m \u001b[38;5;66;03m# The code below prevents the output from being displayed\u001b[39;00m\n\u001b[0;32m   2546\u001b[0m \u001b[38;5;66;03m# when using magics with decorator @output_can_be_silenced\u001b[39;00m\n\u001b[0;32m   2547\u001b[0m \u001b[38;5;66;03m# when the last Python token in the expression is a ';'.\u001b[39;00m\n\u001b[0;32m   2548\u001b[0m \u001b[38;5;28;01mif\u001b[39;00m \u001b[38;5;28mgetattr\u001b[39m(fn, magic\u001b[38;5;241m.\u001b[39mMAGIC_OUTPUT_CAN_BE_SILENCED, \u001b[38;5;28;01mFalse\u001b[39;00m):\n",
      "File \u001b[1;32m~\\Desktop\\PYTHON\\.venv\\lib\\site-packages\\sql\\magic.py:219\u001b[0m, in \u001b[0;36mSqlMagic.execute\u001b[1;34m(self, line, cell, local_ns)\u001b[0m\n\u001b[0;32m    216\u001b[0m     \u001b[38;5;28;01mreturn\u001b[39;00m\n\u001b[0;32m    218\u001b[0m \u001b[38;5;28;01mtry\u001b[39;00m:\n\u001b[1;32m--> 219\u001b[0m     result \u001b[38;5;241m=\u001b[39m \u001b[43msql\u001b[49m\u001b[38;5;241;43m.\u001b[39;49m\u001b[43mrun\u001b[49m\u001b[38;5;241;43m.\u001b[39;49m\u001b[43mrun\u001b[49m\u001b[43m(\u001b[49m\u001b[43mconn\u001b[49m\u001b[43m,\u001b[49m\u001b[43m \u001b[49m\u001b[43mparsed\u001b[49m\u001b[43m[\u001b[49m\u001b[38;5;124;43m\"\u001b[39;49m\u001b[38;5;124;43msql\u001b[39;49m\u001b[38;5;124;43m\"\u001b[39;49m\u001b[43m]\u001b[49m\u001b[43m,\u001b[49m\u001b[43m \u001b[49m\u001b[38;5;28;43mself\u001b[39;49m\u001b[43m,\u001b[49m\u001b[43m \u001b[49m\u001b[43muser_ns\u001b[49m\u001b[43m)\u001b[49m\n\u001b[0;32m    221\u001b[0m     \u001b[38;5;28;01mif\u001b[39;00m (\n\u001b[0;32m    222\u001b[0m         result \u001b[38;5;129;01mis\u001b[39;00m \u001b[38;5;129;01mnot\u001b[39;00m \u001b[38;5;28;01mNone\u001b[39;00m\n\u001b[0;32m    223\u001b[0m         \u001b[38;5;129;01mand\u001b[39;00m \u001b[38;5;129;01mnot\u001b[39;00m \u001b[38;5;28misinstance\u001b[39m(result, \u001b[38;5;28mstr\u001b[39m)\n\u001b[1;32m   (...)\u001b[0m\n\u001b[0;32m    226\u001b[0m         \u001b[38;5;66;03m# Instead of returning values, set variables directly in the\u001b[39;00m\n\u001b[0;32m    227\u001b[0m         \u001b[38;5;66;03m# user's namespace. Variable names given by column names\u001b[39;00m\n\u001b[0;32m    229\u001b[0m         \u001b[38;5;28;01mif\u001b[39;00m \u001b[38;5;28mself\u001b[39m\u001b[38;5;241m.\u001b[39mautopandas:\n",
      "File \u001b[1;32m~\\Desktop\\PYTHON\\.venv\\lib\\site-packages\\sql\\run.py:374\u001b[0m, in \u001b[0;36mrun\u001b[1;34m(conn, sql, config, user_namespace)\u001b[0m\n\u001b[0;32m    372\u001b[0m     \u001b[38;5;28;01mif\u001b[39;00m result \u001b[38;5;129;01mand\u001b[39;00m config\u001b[38;5;241m.\u001b[39mfeedback:\n\u001b[0;32m    373\u001b[0m         \u001b[38;5;28mprint\u001b[39m(interpret_rowcount(result\u001b[38;5;241m.\u001b[39mrowcount))\n\u001b[1;32m--> 374\u001b[0m resultset \u001b[38;5;241m=\u001b[39m \u001b[43mResultSet\u001b[49m\u001b[43m(\u001b[49m\u001b[43mresult\u001b[49m\u001b[43m,\u001b[49m\u001b[43m \u001b[49m\u001b[43mconfig\u001b[49m\u001b[43m)\u001b[49m\n\u001b[0;32m    375\u001b[0m \u001b[38;5;28;01mif\u001b[39;00m config\u001b[38;5;241m.\u001b[39mautopandas:\n\u001b[0;32m    376\u001b[0m     \u001b[38;5;28;01mreturn\u001b[39;00m resultset\u001b[38;5;241m.\u001b[39mDataFrame()\n",
      "File \u001b[1;32m~\\Desktop\\PYTHON\\.venv\\lib\\site-packages\\sql\\run.py:116\u001b[0m, in \u001b[0;36mResultSet.__init__\u001b[1;34m(self, sqlaproxy, config)\u001b[0m\n\u001b[0;32m    114\u001b[0m         \u001b[38;5;28mlist\u001b[39m\u001b[38;5;241m.\u001b[39m\u001b[38;5;21m__init__\u001b[39m(\u001b[38;5;28mself\u001b[39m, sqlaproxy\u001b[38;5;241m.\u001b[39mfetchall())\n\u001b[0;32m    115\u001b[0m     \u001b[38;5;28mself\u001b[39m\u001b[38;5;241m.\u001b[39mfield_names \u001b[38;5;241m=\u001b[39m unduplicate_field_names(\u001b[38;5;28mself\u001b[39m\u001b[38;5;241m.\u001b[39mkeys)\n\u001b[1;32m--> 116\u001b[0m     \u001b[38;5;28mself\u001b[39m\u001b[38;5;241m.\u001b[39mpretty \u001b[38;5;241m=\u001b[39m PrettyTable(\u001b[38;5;28mself\u001b[39m\u001b[38;5;241m.\u001b[39mfield_names, style\u001b[38;5;241m=\u001b[39m\u001b[43mprettytable\u001b[49m\u001b[38;5;241;43m.\u001b[39;49m\u001b[38;5;18;43m__dict__\u001b[39;49m\u001b[43m[\u001b[49m\u001b[43mconfig\u001b[49m\u001b[38;5;241;43m.\u001b[39;49m\u001b[43mstyle\u001b[49m\u001b[38;5;241;43m.\u001b[39;49m\u001b[43mupper\u001b[49m\u001b[43m(\u001b[49m\u001b[43m)\u001b[49m\u001b[43m]\u001b[49m)\n\u001b[0;32m    117\u001b[0m \u001b[38;5;28;01melse\u001b[39;00m:\n\u001b[0;32m    118\u001b[0m     \u001b[38;5;28mlist\u001b[39m\u001b[38;5;241m.\u001b[39m\u001b[38;5;21m__init__\u001b[39m(\u001b[38;5;28mself\u001b[39m, [])\n",
      "\u001b[1;31mKeyError\u001b[0m: 'DEFAULT'"
     ]
    }
   ],
   "source": [
    "%%sql\n",
    "SELECT * FROM mokytojai;\n"
   ]
  },
  {
   "cell_type": "code",
   "execution_count": 6,
   "id": "d69d3953-0cec-4221-89a9-b64ea2b3f74d",
   "metadata": {},
   "outputs": [],
   "source": [
    "import prettytable\n",
    "from sql.run import ResultSet\n",
    "from prettytable import TableStyle\n",
    "\n",
    "ResultSet.prettytable = prettytable.PrettyTable()\n",
    "ResultSet.prettytable.set_style(TableStyle.MSWORD_FRIENDLY)\n"
   ]
  },
  {
   "cell_type": "code",
   "execution_count": 7,
   "id": "e515c8cc-b421-45f1-b3bf-10925829bb75",
   "metadata": {},
   "outputs": [
    {
     "name": "stdout",
     "output_type": "stream",
     "text": [
      " * sqlite:///mokytojai.db\n",
      "Done.\n",
      "Done.\n"
     ]
    },
    {
     "data": {
      "text/plain": [
       "[]"
      ]
     },
     "execution_count": 7,
     "metadata": {},
     "output_type": "execute_result"
    }
   ],
   "source": [
    "%%sql\n",
    "DROP TABLE IF EXISTS mokytojai;\n",
    "\n",
    "CREATE TABLE mokytojai (\n",
    "    id INTEGER PRIMARY KEY AUTOINCREMENT,\n",
    "    vardas TEXT,\n",
    "    pavarde TEXT,\n",
    "    destomas_dalykas TEXT,\n",
    "    atlyginimas REAL\n",
    ");\n"
   ]
  },
  {
   "cell_type": "code",
   "execution_count": 8,
   "id": "7622ba03-206e-48b1-8d16-08588b4d52bd",
   "metadata": {},
   "outputs": [
    {
     "name": "stdout",
     "output_type": "stream",
     "text": [
      " * sqlite:///mokytojai.db\n",
      "4 rows affected.\n"
     ]
    },
    {
     "data": {
      "text/plain": [
       "[]"
      ]
     },
     "execution_count": 8,
     "metadata": {},
     "output_type": "execute_result"
    }
   ],
   "source": [
    "%%sql\n",
    "INSERT INTO mokytojai (vardas, pavarde, destomas_dalykas, atlyginimas) VALUES\n",
    "('Jonas', 'Jonaitis', 'Matematika', 1500),\n",
    "('Petras', 'Petraitis', 'Fizika', 1800),\n",
    "('Ona', 'Onaitytė', 'Lietuvių kalba', 1600),\n",
    "('Rasa', 'Rasaitė', 'Istorija', 1750);\n"
   ]
  },
  {
   "cell_type": "code",
   "execution_count": 9,
   "id": "dbc2184e-600a-462e-a262-36e94687eeb0",
   "metadata": {},
   "outputs": [
    {
     "name": "stdout",
     "output_type": "stream",
     "text": [
      " * sqlite:///mokytojai.db\n",
      "Done.\n"
     ]
    },
    {
     "ename": "KeyError",
     "evalue": "'DEFAULT'",
     "output_type": "error",
     "traceback": [
      "\u001b[1;31m---------------------------------------------------------------------------\u001b[0m",
      "\u001b[1;31mKeyError\u001b[0m                                  Traceback (most recent call last)",
      "Cell \u001b[1;32mIn[9], line 1\u001b[0m\n\u001b[1;32m----> 1\u001b[0m \u001b[43mget_ipython\u001b[49m\u001b[43m(\u001b[49m\u001b[43m)\u001b[49m\u001b[38;5;241;43m.\u001b[39;49m\u001b[43mrun_cell_magic\u001b[49m\u001b[43m(\u001b[49m\u001b[38;5;124;43m'\u001b[39;49m\u001b[38;5;124;43msql\u001b[39;49m\u001b[38;5;124;43m'\u001b[39;49m\u001b[43m,\u001b[49m\u001b[43m \u001b[49m\u001b[38;5;124;43m'\u001b[39;49m\u001b[38;5;124;43m'\u001b[39;49m\u001b[43m,\u001b[49m\u001b[43m \u001b[49m\u001b[38;5;124;43m'\u001b[39;49m\u001b[38;5;124;43mSELECT vardas || \u001b[39;49m\u001b[38;5;130;43;01m\\'\u001b[39;49;00m\u001b[38;5;124;43m \u001b[39;49m\u001b[38;5;130;43;01m\\'\u001b[39;49;00m\u001b[38;5;124;43m || pavarde AS \u001b[39;49m\u001b[38;5;124;43m\"\u001b[39;49m\u001b[38;5;124;43mPilnas Vardas\u001b[39;49m\u001b[38;5;124;43m\"\u001b[39;49m\u001b[38;5;124;43m FROM mokytojai;\u001b[39;49m\u001b[38;5;130;43;01m\\n\u001b[39;49;00m\u001b[38;5;124;43m'\u001b[39;49m\u001b[43m)\u001b[49m\n",
      "File \u001b[1;32m~\\Desktop\\PYTHON\\.venv\\lib\\site-packages\\IPython\\core\\interactiveshell.py:2543\u001b[0m, in \u001b[0;36mInteractiveShell.run_cell_magic\u001b[1;34m(self, magic_name, line, cell)\u001b[0m\n\u001b[0;32m   2541\u001b[0m \u001b[38;5;28;01mwith\u001b[39;00m \u001b[38;5;28mself\u001b[39m\u001b[38;5;241m.\u001b[39mbuiltin_trap:\n\u001b[0;32m   2542\u001b[0m     args \u001b[38;5;241m=\u001b[39m (magic_arg_s, cell)\n\u001b[1;32m-> 2543\u001b[0m     result \u001b[38;5;241m=\u001b[39m fn(\u001b[38;5;241m*\u001b[39margs, \u001b[38;5;241m*\u001b[39m\u001b[38;5;241m*\u001b[39mkwargs)\n\u001b[0;32m   2545\u001b[0m \u001b[38;5;66;03m# The code below prevents the output from being displayed\u001b[39;00m\n\u001b[0;32m   2546\u001b[0m \u001b[38;5;66;03m# when using magics with decorator @output_can_be_silenced\u001b[39;00m\n\u001b[0;32m   2547\u001b[0m \u001b[38;5;66;03m# when the last Python token in the expression is a ';'.\u001b[39;00m\n\u001b[0;32m   2548\u001b[0m \u001b[38;5;28;01mif\u001b[39;00m \u001b[38;5;28mgetattr\u001b[39m(fn, magic\u001b[38;5;241m.\u001b[39mMAGIC_OUTPUT_CAN_BE_SILENCED, \u001b[38;5;28;01mFalse\u001b[39;00m):\n",
      "File \u001b[1;32m~\\Desktop\\PYTHON\\.venv\\lib\\site-packages\\sql\\magic.py:219\u001b[0m, in \u001b[0;36mSqlMagic.execute\u001b[1;34m(self, line, cell, local_ns)\u001b[0m\n\u001b[0;32m    216\u001b[0m     \u001b[38;5;28;01mreturn\u001b[39;00m\n\u001b[0;32m    218\u001b[0m \u001b[38;5;28;01mtry\u001b[39;00m:\n\u001b[1;32m--> 219\u001b[0m     result \u001b[38;5;241m=\u001b[39m \u001b[43msql\u001b[49m\u001b[38;5;241;43m.\u001b[39;49m\u001b[43mrun\u001b[49m\u001b[38;5;241;43m.\u001b[39;49m\u001b[43mrun\u001b[49m\u001b[43m(\u001b[49m\u001b[43mconn\u001b[49m\u001b[43m,\u001b[49m\u001b[43m \u001b[49m\u001b[43mparsed\u001b[49m\u001b[43m[\u001b[49m\u001b[38;5;124;43m\"\u001b[39;49m\u001b[38;5;124;43msql\u001b[39;49m\u001b[38;5;124;43m\"\u001b[39;49m\u001b[43m]\u001b[49m\u001b[43m,\u001b[49m\u001b[43m \u001b[49m\u001b[38;5;28;43mself\u001b[39;49m\u001b[43m,\u001b[49m\u001b[43m \u001b[49m\u001b[43muser_ns\u001b[49m\u001b[43m)\u001b[49m\n\u001b[0;32m    221\u001b[0m     \u001b[38;5;28;01mif\u001b[39;00m (\n\u001b[0;32m    222\u001b[0m         result \u001b[38;5;129;01mis\u001b[39;00m \u001b[38;5;129;01mnot\u001b[39;00m \u001b[38;5;28;01mNone\u001b[39;00m\n\u001b[0;32m    223\u001b[0m         \u001b[38;5;129;01mand\u001b[39;00m \u001b[38;5;129;01mnot\u001b[39;00m \u001b[38;5;28misinstance\u001b[39m(result, \u001b[38;5;28mstr\u001b[39m)\n\u001b[1;32m   (...)\u001b[0m\n\u001b[0;32m    226\u001b[0m         \u001b[38;5;66;03m# Instead of returning values, set variables directly in the\u001b[39;00m\n\u001b[0;32m    227\u001b[0m         \u001b[38;5;66;03m# user's namespace. Variable names given by column names\u001b[39;00m\n\u001b[0;32m    229\u001b[0m         \u001b[38;5;28;01mif\u001b[39;00m \u001b[38;5;28mself\u001b[39m\u001b[38;5;241m.\u001b[39mautopandas:\n",
      "File \u001b[1;32m~\\Desktop\\PYTHON\\.venv\\lib\\site-packages\\sql\\run.py:374\u001b[0m, in \u001b[0;36mrun\u001b[1;34m(conn, sql, config, user_namespace)\u001b[0m\n\u001b[0;32m    372\u001b[0m     \u001b[38;5;28;01mif\u001b[39;00m result \u001b[38;5;129;01mand\u001b[39;00m config\u001b[38;5;241m.\u001b[39mfeedback:\n\u001b[0;32m    373\u001b[0m         \u001b[38;5;28mprint\u001b[39m(interpret_rowcount(result\u001b[38;5;241m.\u001b[39mrowcount))\n\u001b[1;32m--> 374\u001b[0m resultset \u001b[38;5;241m=\u001b[39m \u001b[43mResultSet\u001b[49m\u001b[43m(\u001b[49m\u001b[43mresult\u001b[49m\u001b[43m,\u001b[49m\u001b[43m \u001b[49m\u001b[43mconfig\u001b[49m\u001b[43m)\u001b[49m\n\u001b[0;32m    375\u001b[0m \u001b[38;5;28;01mif\u001b[39;00m config\u001b[38;5;241m.\u001b[39mautopandas:\n\u001b[0;32m    376\u001b[0m     \u001b[38;5;28;01mreturn\u001b[39;00m resultset\u001b[38;5;241m.\u001b[39mDataFrame()\n",
      "File \u001b[1;32m~\\Desktop\\PYTHON\\.venv\\lib\\site-packages\\sql\\run.py:116\u001b[0m, in \u001b[0;36mResultSet.__init__\u001b[1;34m(self, sqlaproxy, config)\u001b[0m\n\u001b[0;32m    114\u001b[0m         \u001b[38;5;28mlist\u001b[39m\u001b[38;5;241m.\u001b[39m\u001b[38;5;21m__init__\u001b[39m(\u001b[38;5;28mself\u001b[39m, sqlaproxy\u001b[38;5;241m.\u001b[39mfetchall())\n\u001b[0;32m    115\u001b[0m     \u001b[38;5;28mself\u001b[39m\u001b[38;5;241m.\u001b[39mfield_names \u001b[38;5;241m=\u001b[39m unduplicate_field_names(\u001b[38;5;28mself\u001b[39m\u001b[38;5;241m.\u001b[39mkeys)\n\u001b[1;32m--> 116\u001b[0m     \u001b[38;5;28mself\u001b[39m\u001b[38;5;241m.\u001b[39mpretty \u001b[38;5;241m=\u001b[39m PrettyTable(\u001b[38;5;28mself\u001b[39m\u001b[38;5;241m.\u001b[39mfield_names, style\u001b[38;5;241m=\u001b[39m\u001b[43mprettytable\u001b[49m\u001b[38;5;241;43m.\u001b[39;49m\u001b[38;5;18;43m__dict__\u001b[39;49m\u001b[43m[\u001b[49m\u001b[43mconfig\u001b[49m\u001b[38;5;241;43m.\u001b[39;49m\u001b[43mstyle\u001b[49m\u001b[38;5;241;43m.\u001b[39;49m\u001b[43mupper\u001b[49m\u001b[43m(\u001b[49m\u001b[43m)\u001b[49m\u001b[43m]\u001b[49m)\n\u001b[0;32m    117\u001b[0m \u001b[38;5;28;01melse\u001b[39;00m:\n\u001b[0;32m    118\u001b[0m     \u001b[38;5;28mlist\u001b[39m\u001b[38;5;241m.\u001b[39m\u001b[38;5;21m__init__\u001b[39m(\u001b[38;5;28mself\u001b[39m, [])\n",
      "\u001b[1;31mKeyError\u001b[0m: 'DEFAULT'"
     ]
    }
   ],
   "source": [
    "%%sql\n",
    "SELECT vardas || ' ' || pavarde AS \"Pilnas Vardas\" FROM mokytojai;\n"
   ]
  },
  {
   "cell_type": "code",
   "execution_count": 10,
   "id": "20aeb95a-8888-4ac5-8cb1-d0cef3b6d887",
   "metadata": {},
   "outputs": [
    {
     "name": "stdout",
     "output_type": "stream",
     "text": [
      " * sqlite:///mokytojai.db\n",
      "Done.\n"
     ]
    },
    {
     "ename": "KeyError",
     "evalue": "'DEFAULT'",
     "output_type": "error",
     "traceback": [
      "\u001b[1;31m---------------------------------------------------------------------------\u001b[0m",
      "\u001b[1;31mKeyError\u001b[0m                                  Traceback (most recent call last)",
      "Cell \u001b[1;32mIn[10], line 1\u001b[0m\n\u001b[1;32m----> 1\u001b[0m \u001b[43mget_ipython\u001b[49m\u001b[43m(\u001b[49m\u001b[43m)\u001b[49m\u001b[38;5;241;43m.\u001b[39;49m\u001b[43mrun_cell_magic\u001b[49m\u001b[43m(\u001b[49m\u001b[38;5;124;43m'\u001b[39;49m\u001b[38;5;124;43msql\u001b[39;49m\u001b[38;5;124;43m'\u001b[39;49m\u001b[43m,\u001b[49m\u001b[43m \u001b[49m\u001b[38;5;124;43m'\u001b[39;49m\u001b[38;5;124;43m'\u001b[39;49m\u001b[43m,\u001b[49m\u001b[43m \u001b[49m\u001b[38;5;124;43m'\u001b[39;49m\u001b[38;5;124;43mSELECT vardas || \u001b[39;49m\u001b[38;5;130;43;01m\\'\u001b[39;49;00m\u001b[38;5;124;43m \u001b[39;49m\u001b[38;5;130;43;01m\\'\u001b[39;49;00m\u001b[38;5;124;43m || pavarde AS \u001b[39;49m\u001b[38;5;124;43m\"\u001b[39;49m\u001b[38;5;124;43mPilnas Vardas\u001b[39;49m\u001b[38;5;124;43m\"\u001b[39;49m\u001b[38;5;124;43m FROM mokytojai;\u001b[39;49m\u001b[38;5;130;43;01m\\n\u001b[39;49;00m\u001b[38;5;124;43m'\u001b[39;49m\u001b[43m)\u001b[49m\n",
      "File \u001b[1;32m~\\Desktop\\PYTHON\\.venv\\lib\\site-packages\\IPython\\core\\interactiveshell.py:2543\u001b[0m, in \u001b[0;36mInteractiveShell.run_cell_magic\u001b[1;34m(self, magic_name, line, cell)\u001b[0m\n\u001b[0;32m   2541\u001b[0m \u001b[38;5;28;01mwith\u001b[39;00m \u001b[38;5;28mself\u001b[39m\u001b[38;5;241m.\u001b[39mbuiltin_trap:\n\u001b[0;32m   2542\u001b[0m     args \u001b[38;5;241m=\u001b[39m (magic_arg_s, cell)\n\u001b[1;32m-> 2543\u001b[0m     result \u001b[38;5;241m=\u001b[39m fn(\u001b[38;5;241m*\u001b[39margs, \u001b[38;5;241m*\u001b[39m\u001b[38;5;241m*\u001b[39mkwargs)\n\u001b[0;32m   2545\u001b[0m \u001b[38;5;66;03m# The code below prevents the output from being displayed\u001b[39;00m\n\u001b[0;32m   2546\u001b[0m \u001b[38;5;66;03m# when using magics with decorator @output_can_be_silenced\u001b[39;00m\n\u001b[0;32m   2547\u001b[0m \u001b[38;5;66;03m# when the last Python token in the expression is a ';'.\u001b[39;00m\n\u001b[0;32m   2548\u001b[0m \u001b[38;5;28;01mif\u001b[39;00m \u001b[38;5;28mgetattr\u001b[39m(fn, magic\u001b[38;5;241m.\u001b[39mMAGIC_OUTPUT_CAN_BE_SILENCED, \u001b[38;5;28;01mFalse\u001b[39;00m):\n",
      "File \u001b[1;32m~\\Desktop\\PYTHON\\.venv\\lib\\site-packages\\sql\\magic.py:219\u001b[0m, in \u001b[0;36mSqlMagic.execute\u001b[1;34m(self, line, cell, local_ns)\u001b[0m\n\u001b[0;32m    216\u001b[0m     \u001b[38;5;28;01mreturn\u001b[39;00m\n\u001b[0;32m    218\u001b[0m \u001b[38;5;28;01mtry\u001b[39;00m:\n\u001b[1;32m--> 219\u001b[0m     result \u001b[38;5;241m=\u001b[39m \u001b[43msql\u001b[49m\u001b[38;5;241;43m.\u001b[39;49m\u001b[43mrun\u001b[49m\u001b[38;5;241;43m.\u001b[39;49m\u001b[43mrun\u001b[49m\u001b[43m(\u001b[49m\u001b[43mconn\u001b[49m\u001b[43m,\u001b[49m\u001b[43m \u001b[49m\u001b[43mparsed\u001b[49m\u001b[43m[\u001b[49m\u001b[38;5;124;43m\"\u001b[39;49m\u001b[38;5;124;43msql\u001b[39;49m\u001b[38;5;124;43m\"\u001b[39;49m\u001b[43m]\u001b[49m\u001b[43m,\u001b[49m\u001b[43m \u001b[49m\u001b[38;5;28;43mself\u001b[39;49m\u001b[43m,\u001b[49m\u001b[43m \u001b[49m\u001b[43muser_ns\u001b[49m\u001b[43m)\u001b[49m\n\u001b[0;32m    221\u001b[0m     \u001b[38;5;28;01mif\u001b[39;00m (\n\u001b[0;32m    222\u001b[0m         result \u001b[38;5;129;01mis\u001b[39;00m \u001b[38;5;129;01mnot\u001b[39;00m \u001b[38;5;28;01mNone\u001b[39;00m\n\u001b[0;32m    223\u001b[0m         \u001b[38;5;129;01mand\u001b[39;00m \u001b[38;5;129;01mnot\u001b[39;00m \u001b[38;5;28misinstance\u001b[39m(result, \u001b[38;5;28mstr\u001b[39m)\n\u001b[1;32m   (...)\u001b[0m\n\u001b[0;32m    226\u001b[0m         \u001b[38;5;66;03m# Instead of returning values, set variables directly in the\u001b[39;00m\n\u001b[0;32m    227\u001b[0m         \u001b[38;5;66;03m# user's namespace. Variable names given by column names\u001b[39;00m\n\u001b[0;32m    229\u001b[0m         \u001b[38;5;28;01mif\u001b[39;00m \u001b[38;5;28mself\u001b[39m\u001b[38;5;241m.\u001b[39mautopandas:\n",
      "File \u001b[1;32m~\\Desktop\\PYTHON\\.venv\\lib\\site-packages\\sql\\run.py:374\u001b[0m, in \u001b[0;36mrun\u001b[1;34m(conn, sql, config, user_namespace)\u001b[0m\n\u001b[0;32m    372\u001b[0m     \u001b[38;5;28;01mif\u001b[39;00m result \u001b[38;5;129;01mand\u001b[39;00m config\u001b[38;5;241m.\u001b[39mfeedback:\n\u001b[0;32m    373\u001b[0m         \u001b[38;5;28mprint\u001b[39m(interpret_rowcount(result\u001b[38;5;241m.\u001b[39mrowcount))\n\u001b[1;32m--> 374\u001b[0m resultset \u001b[38;5;241m=\u001b[39m \u001b[43mResultSet\u001b[49m\u001b[43m(\u001b[49m\u001b[43mresult\u001b[49m\u001b[43m,\u001b[49m\u001b[43m \u001b[49m\u001b[43mconfig\u001b[49m\u001b[43m)\u001b[49m\n\u001b[0;32m    375\u001b[0m \u001b[38;5;28;01mif\u001b[39;00m config\u001b[38;5;241m.\u001b[39mautopandas:\n\u001b[0;32m    376\u001b[0m     \u001b[38;5;28;01mreturn\u001b[39;00m resultset\u001b[38;5;241m.\u001b[39mDataFrame()\n",
      "File \u001b[1;32m~\\Desktop\\PYTHON\\.venv\\lib\\site-packages\\sql\\run.py:116\u001b[0m, in \u001b[0;36mResultSet.__init__\u001b[1;34m(self, sqlaproxy, config)\u001b[0m\n\u001b[0;32m    114\u001b[0m         \u001b[38;5;28mlist\u001b[39m\u001b[38;5;241m.\u001b[39m\u001b[38;5;21m__init__\u001b[39m(\u001b[38;5;28mself\u001b[39m, sqlaproxy\u001b[38;5;241m.\u001b[39mfetchall())\n\u001b[0;32m    115\u001b[0m     \u001b[38;5;28mself\u001b[39m\u001b[38;5;241m.\u001b[39mfield_names \u001b[38;5;241m=\u001b[39m unduplicate_field_names(\u001b[38;5;28mself\u001b[39m\u001b[38;5;241m.\u001b[39mkeys)\n\u001b[1;32m--> 116\u001b[0m     \u001b[38;5;28mself\u001b[39m\u001b[38;5;241m.\u001b[39mpretty \u001b[38;5;241m=\u001b[39m PrettyTable(\u001b[38;5;28mself\u001b[39m\u001b[38;5;241m.\u001b[39mfield_names, style\u001b[38;5;241m=\u001b[39m\u001b[43mprettytable\u001b[49m\u001b[38;5;241;43m.\u001b[39;49m\u001b[38;5;18;43m__dict__\u001b[39;49m\u001b[43m[\u001b[49m\u001b[43mconfig\u001b[49m\u001b[38;5;241;43m.\u001b[39;49m\u001b[43mstyle\u001b[49m\u001b[38;5;241;43m.\u001b[39;49m\u001b[43mupper\u001b[49m\u001b[43m(\u001b[49m\u001b[43m)\u001b[49m\u001b[43m]\u001b[49m)\n\u001b[0;32m    117\u001b[0m \u001b[38;5;28;01melse\u001b[39;00m:\n\u001b[0;32m    118\u001b[0m     \u001b[38;5;28mlist\u001b[39m\u001b[38;5;241m.\u001b[39m\u001b[38;5;21m__init__\u001b[39m(\u001b[38;5;28mself\u001b[39m, [])\n",
      "\u001b[1;31mKeyError\u001b[0m: 'DEFAULT'"
     ]
    }
   ],
   "source": [
    "%%sql\n",
    "SELECT vardas || ' ' || pavarde AS \"Pilnas Vardas\" FROM mokytojai;\n"
   ]
  },
  {
   "cell_type": "code",
   "execution_count": 11,
   "id": "09905689-40fa-47e4-b2d9-c20ce1dab94b",
   "metadata": {},
   "outputs": [
    {
     "name": "stdout",
     "output_type": "stream",
     "text": [
      "Requirement already satisfied: ipython-sql in c:\\users\\mindaugas\\desktop\\python\\.venv\\lib\\site-packages (0.5.0)\n",
      "Requirement already satisfied: sqlalchemy in c:\\users\\mindaugas\\desktop\\python\\.venv\\lib\\site-packages (2.0.38)\n",
      "Requirement already satisfied: prettytable in c:\\users\\mindaugas\\desktop\\python\\.venv\\lib\\site-packages (from ipython-sql) (3.14.0)\n",
      "Requirement already satisfied: ipython in c:\\users\\mindaugas\\desktop\\python\\.venv\\lib\\site-packages (from ipython-sql) (8.32.0)\n",
      "Requirement already satisfied: sqlparse in c:\\users\\mindaugas\\desktop\\python\\.venv\\lib\\site-packages (from ipython-sql) (0.5.3)\n",
      "Requirement already satisfied: six in c:\\users\\mindaugas\\desktop\\python\\.venv\\lib\\site-packages (from ipython-sql) (1.17.0)\n",
      "Requirement already satisfied: ipython-genutils in c:\\users\\mindaugas\\desktop\\python\\.venv\\lib\\site-packages (from ipython-sql) (0.2.0)\n",
      "Requirement already satisfied: greenlet!=0.4.17 in c:\\users\\mindaugas\\desktop\\python\\.venv\\lib\\site-packages (from sqlalchemy) (3.1.1)\n",
      "Requirement already satisfied: typing-extensions>=4.6.0 in c:\\users\\mindaugas\\desktop\\python\\.venv\\lib\\site-packages (from sqlalchemy) (4.12.2)\n",
      "Requirement already satisfied: colorama in c:\\users\\mindaugas\\desktop\\python\\.venv\\lib\\site-packages (from ipython->ipython-sql) (0.4.6)\n",
      "Requirement already satisfied: decorator in c:\\users\\mindaugas\\desktop\\python\\.venv\\lib\\site-packages (from ipython->ipython-sql) (5.1.1)\n",
      "Requirement already satisfied: exceptiongroup in c:\\users\\mindaugas\\desktop\\python\\.venv\\lib\\site-packages (from ipython->ipython-sql) (1.2.2)\n",
      "Requirement already satisfied: jedi>=0.16 in c:\\users\\mindaugas\\desktop\\python\\.venv\\lib\\site-packages (from ipython->ipython-sql) (0.19.2)\n",
      "Requirement already satisfied: matplotlib-inline in c:\\users\\mindaugas\\desktop\\python\\.venv\\lib\\site-packages (from ipython->ipython-sql) (0.1.7)\n",
      "Requirement already satisfied: prompt_toolkit<3.1.0,>=3.0.41 in c:\\users\\mindaugas\\desktop\\python\\.venv\\lib\\site-packages (from ipython->ipython-sql) (3.0.50)\n",
      "Requirement already satisfied: pygments>=2.4.0 in c:\\users\\mindaugas\\desktop\\python\\.venv\\lib\\site-packages (from ipython->ipython-sql) (2.19.1)\n",
      "Requirement already satisfied: stack_data in c:\\users\\mindaugas\\desktop\\python\\.venv\\lib\\site-packages (from ipython->ipython-sql) (0.6.3)\n",
      "Requirement already satisfied: traitlets>=5.13.0 in c:\\users\\mindaugas\\desktop\\python\\.venv\\lib\\site-packages (from ipython->ipython-sql) (5.14.3)\n",
      "Requirement already satisfied: wcwidth in c:\\users\\mindaugas\\desktop\\python\\.venv\\lib\\site-packages (from prettytable->ipython-sql) (0.2.13)\n",
      "Requirement already satisfied: parso<0.9.0,>=0.8.4 in c:\\users\\mindaugas\\desktop\\python\\.venv\\lib\\site-packages (from jedi>=0.16->ipython->ipython-sql) (0.8.4)\n",
      "Requirement already satisfied: executing>=1.2.0 in c:\\users\\mindaugas\\desktop\\python\\.venv\\lib\\site-packages (from stack_data->ipython->ipython-sql) (2.2.0)\n",
      "Requirement already satisfied: asttokens>=2.1.0 in c:\\users\\mindaugas\\desktop\\python\\.venv\\lib\\site-packages (from stack_data->ipython->ipython-sql) (3.0.0)\n",
      "Requirement already satisfied: pure-eval in c:\\users\\mindaugas\\desktop\\python\\.venv\\lib\\site-packages (from stack_data->ipython->ipython-sql) (0.2.3)\n",
      "Note: you may need to restart the kernel to use updated packages.\n"
     ]
    }
   ],
   "source": [
    "pip install --upgrade ipython-sql sqlalchemy\n"
   ]
  },
  {
   "cell_type": "code",
   "execution_count": 12,
   "id": "1bc06af4-7add-4c32-b87b-05a46c892a0e",
   "metadata": {},
   "outputs": [
    {
     "name": "stdout",
     "output_type": "stream",
     "text": [
      " * sqlite:///mokytojai.db\n",
      "Done.\n"
     ]
    },
    {
     "ename": "KeyError",
     "evalue": "'DEFAULT'",
     "output_type": "error",
     "traceback": [
      "\u001b[1;31m---------------------------------------------------------------------------\u001b[0m",
      "\u001b[1;31mKeyError\u001b[0m                                  Traceback (most recent call last)",
      "Cell \u001b[1;32mIn[12], line 1\u001b[0m\n\u001b[1;32m----> 1\u001b[0m \u001b[43mget_ipython\u001b[49m\u001b[43m(\u001b[49m\u001b[43m)\u001b[49m\u001b[38;5;241;43m.\u001b[39;49m\u001b[43mrun_cell_magic\u001b[49m\u001b[43m(\u001b[49m\u001b[38;5;124;43m'\u001b[39;49m\u001b[38;5;124;43msql\u001b[39;49m\u001b[38;5;124;43m'\u001b[39;49m\u001b[43m,\u001b[49m\u001b[43m \u001b[49m\u001b[38;5;124;43m'\u001b[39;49m\u001b[38;5;124;43m'\u001b[39;49m\u001b[43m,\u001b[49m\u001b[43m \u001b[49m\u001b[38;5;124;43m'\u001b[39;49m\u001b[38;5;124;43mSELECT vardas || \u001b[39;49m\u001b[38;5;130;43;01m\\'\u001b[39;49;00m\u001b[38;5;124;43m \u001b[39;49m\u001b[38;5;130;43;01m\\'\u001b[39;49;00m\u001b[38;5;124;43m || pavarde AS \u001b[39;49m\u001b[38;5;124;43m\"\u001b[39;49m\u001b[38;5;124;43mPilnas Vardas\u001b[39;49m\u001b[38;5;124;43m\"\u001b[39;49m\u001b[38;5;124;43m FROM mokytojai;\u001b[39;49m\u001b[38;5;130;43;01m\\n\u001b[39;49;00m\u001b[38;5;124;43m'\u001b[39;49m\u001b[43m)\u001b[49m\n",
      "File \u001b[1;32m~\\Desktop\\PYTHON\\.venv\\lib\\site-packages\\IPython\\core\\interactiveshell.py:2543\u001b[0m, in \u001b[0;36mInteractiveShell.run_cell_magic\u001b[1;34m(self, magic_name, line, cell)\u001b[0m\n\u001b[0;32m   2541\u001b[0m \u001b[38;5;28;01mwith\u001b[39;00m \u001b[38;5;28mself\u001b[39m\u001b[38;5;241m.\u001b[39mbuiltin_trap:\n\u001b[0;32m   2542\u001b[0m     args \u001b[38;5;241m=\u001b[39m (magic_arg_s, cell)\n\u001b[1;32m-> 2543\u001b[0m     result \u001b[38;5;241m=\u001b[39m fn(\u001b[38;5;241m*\u001b[39margs, \u001b[38;5;241m*\u001b[39m\u001b[38;5;241m*\u001b[39mkwargs)\n\u001b[0;32m   2545\u001b[0m \u001b[38;5;66;03m# The code below prevents the output from being displayed\u001b[39;00m\n\u001b[0;32m   2546\u001b[0m \u001b[38;5;66;03m# when using magics with decorator @output_can_be_silenced\u001b[39;00m\n\u001b[0;32m   2547\u001b[0m \u001b[38;5;66;03m# when the last Python token in the expression is a ';'.\u001b[39;00m\n\u001b[0;32m   2548\u001b[0m \u001b[38;5;28;01mif\u001b[39;00m \u001b[38;5;28mgetattr\u001b[39m(fn, magic\u001b[38;5;241m.\u001b[39mMAGIC_OUTPUT_CAN_BE_SILENCED, \u001b[38;5;28;01mFalse\u001b[39;00m):\n",
      "File \u001b[1;32m~\\Desktop\\PYTHON\\.venv\\lib\\site-packages\\sql\\magic.py:219\u001b[0m, in \u001b[0;36mSqlMagic.execute\u001b[1;34m(self, line, cell, local_ns)\u001b[0m\n\u001b[0;32m    216\u001b[0m     \u001b[38;5;28;01mreturn\u001b[39;00m\n\u001b[0;32m    218\u001b[0m \u001b[38;5;28;01mtry\u001b[39;00m:\n\u001b[1;32m--> 219\u001b[0m     result \u001b[38;5;241m=\u001b[39m \u001b[43msql\u001b[49m\u001b[38;5;241;43m.\u001b[39;49m\u001b[43mrun\u001b[49m\u001b[38;5;241;43m.\u001b[39;49m\u001b[43mrun\u001b[49m\u001b[43m(\u001b[49m\u001b[43mconn\u001b[49m\u001b[43m,\u001b[49m\u001b[43m \u001b[49m\u001b[43mparsed\u001b[49m\u001b[43m[\u001b[49m\u001b[38;5;124;43m\"\u001b[39;49m\u001b[38;5;124;43msql\u001b[39;49m\u001b[38;5;124;43m\"\u001b[39;49m\u001b[43m]\u001b[49m\u001b[43m,\u001b[49m\u001b[43m \u001b[49m\u001b[38;5;28;43mself\u001b[39;49m\u001b[43m,\u001b[49m\u001b[43m \u001b[49m\u001b[43muser_ns\u001b[49m\u001b[43m)\u001b[49m\n\u001b[0;32m    221\u001b[0m     \u001b[38;5;28;01mif\u001b[39;00m (\n\u001b[0;32m    222\u001b[0m         result \u001b[38;5;129;01mis\u001b[39;00m \u001b[38;5;129;01mnot\u001b[39;00m \u001b[38;5;28;01mNone\u001b[39;00m\n\u001b[0;32m    223\u001b[0m         \u001b[38;5;129;01mand\u001b[39;00m \u001b[38;5;129;01mnot\u001b[39;00m \u001b[38;5;28misinstance\u001b[39m(result, \u001b[38;5;28mstr\u001b[39m)\n\u001b[1;32m   (...)\u001b[0m\n\u001b[0;32m    226\u001b[0m         \u001b[38;5;66;03m# Instead of returning values, set variables directly in the\u001b[39;00m\n\u001b[0;32m    227\u001b[0m         \u001b[38;5;66;03m# user's namespace. Variable names given by column names\u001b[39;00m\n\u001b[0;32m    229\u001b[0m         \u001b[38;5;28;01mif\u001b[39;00m \u001b[38;5;28mself\u001b[39m\u001b[38;5;241m.\u001b[39mautopandas:\n",
      "File \u001b[1;32m~\\Desktop\\PYTHON\\.venv\\lib\\site-packages\\sql\\run.py:374\u001b[0m, in \u001b[0;36mrun\u001b[1;34m(conn, sql, config, user_namespace)\u001b[0m\n\u001b[0;32m    372\u001b[0m     \u001b[38;5;28;01mif\u001b[39;00m result \u001b[38;5;129;01mand\u001b[39;00m config\u001b[38;5;241m.\u001b[39mfeedback:\n\u001b[0;32m    373\u001b[0m         \u001b[38;5;28mprint\u001b[39m(interpret_rowcount(result\u001b[38;5;241m.\u001b[39mrowcount))\n\u001b[1;32m--> 374\u001b[0m resultset \u001b[38;5;241m=\u001b[39m \u001b[43mResultSet\u001b[49m\u001b[43m(\u001b[49m\u001b[43mresult\u001b[49m\u001b[43m,\u001b[49m\u001b[43m \u001b[49m\u001b[43mconfig\u001b[49m\u001b[43m)\u001b[49m\n\u001b[0;32m    375\u001b[0m \u001b[38;5;28;01mif\u001b[39;00m config\u001b[38;5;241m.\u001b[39mautopandas:\n\u001b[0;32m    376\u001b[0m     \u001b[38;5;28;01mreturn\u001b[39;00m resultset\u001b[38;5;241m.\u001b[39mDataFrame()\n",
      "File \u001b[1;32m~\\Desktop\\PYTHON\\.venv\\lib\\site-packages\\sql\\run.py:116\u001b[0m, in \u001b[0;36mResultSet.__init__\u001b[1;34m(self, sqlaproxy, config)\u001b[0m\n\u001b[0;32m    114\u001b[0m         \u001b[38;5;28mlist\u001b[39m\u001b[38;5;241m.\u001b[39m\u001b[38;5;21m__init__\u001b[39m(\u001b[38;5;28mself\u001b[39m, sqlaproxy\u001b[38;5;241m.\u001b[39mfetchall())\n\u001b[0;32m    115\u001b[0m     \u001b[38;5;28mself\u001b[39m\u001b[38;5;241m.\u001b[39mfield_names \u001b[38;5;241m=\u001b[39m unduplicate_field_names(\u001b[38;5;28mself\u001b[39m\u001b[38;5;241m.\u001b[39mkeys)\n\u001b[1;32m--> 116\u001b[0m     \u001b[38;5;28mself\u001b[39m\u001b[38;5;241m.\u001b[39mpretty \u001b[38;5;241m=\u001b[39m PrettyTable(\u001b[38;5;28mself\u001b[39m\u001b[38;5;241m.\u001b[39mfield_names, style\u001b[38;5;241m=\u001b[39m\u001b[43mprettytable\u001b[49m\u001b[38;5;241;43m.\u001b[39;49m\u001b[38;5;18;43m__dict__\u001b[39;49m\u001b[43m[\u001b[49m\u001b[43mconfig\u001b[49m\u001b[38;5;241;43m.\u001b[39;49m\u001b[43mstyle\u001b[49m\u001b[38;5;241;43m.\u001b[39;49m\u001b[43mupper\u001b[49m\u001b[43m(\u001b[49m\u001b[43m)\u001b[49m\u001b[43m]\u001b[49m)\n\u001b[0;32m    117\u001b[0m \u001b[38;5;28;01melse\u001b[39;00m:\n\u001b[0;32m    118\u001b[0m     \u001b[38;5;28mlist\u001b[39m\u001b[38;5;241m.\u001b[39m\u001b[38;5;21m__init__\u001b[39m(\u001b[38;5;28mself\u001b[39m, [])\n",
      "\u001b[1;31mKeyError\u001b[0m: 'DEFAULT'"
     ]
    }
   ],
   "source": [
    "%%sql\n",
    "SELECT vardas || ' ' || pavarde AS \"Pilnas Vardas\" FROM mokytojai;"
   ]
  },
  {
   "cell_type": "code",
   "execution_count": 13,
   "id": "a97558c5-2964-4f8b-9066-e3c18f912913",
   "metadata": {},
   "outputs": [
    {
     "name": "stdout",
     "output_type": "stream",
     "text": [
      " * sqlite:///mokytojai.db\n",
      "Done.\n"
     ]
    },
    {
     "ename": "KeyError",
     "evalue": "'DEFAULT'",
     "output_type": "error",
     "traceback": [
      "\u001b[1;31m---------------------------------------------------------------------------\u001b[0m",
      "\u001b[1;31mKeyError\u001b[0m                                  Traceback (most recent call last)",
      "Cell \u001b[1;32mIn[13], line 1\u001b[0m\n\u001b[1;32m----> 1\u001b[0m \u001b[43mget_ipython\u001b[49m\u001b[43m(\u001b[49m\u001b[43m)\u001b[49m\u001b[38;5;241;43m.\u001b[39;49m\u001b[43mrun_cell_magic\u001b[49m\u001b[43m(\u001b[49m\u001b[38;5;124;43m'\u001b[39;49m\u001b[38;5;124;43msql\u001b[39;49m\u001b[38;5;124;43m'\u001b[39;49m\u001b[43m,\u001b[49m\u001b[43m \u001b[49m\u001b[38;5;124;43m'\u001b[39;49m\u001b[38;5;124;43m'\u001b[39;49m\u001b[43m,\u001b[49m\u001b[43m \u001b[49m\u001b[38;5;124;43m'\u001b[39;49m\u001b[38;5;124;43mSELECT vardas || \u001b[39;49m\u001b[38;5;130;43;01m\\'\u001b[39;49;00m\u001b[38;5;124;43m \u001b[39;49m\u001b[38;5;130;43;01m\\'\u001b[39;49;00m\u001b[38;5;124;43m || pavarde AS \u001b[39;49m\u001b[38;5;124;43m\"\u001b[39;49m\u001b[38;5;124;43mPilnas Vardas\u001b[39;49m\u001b[38;5;124;43m\"\u001b[39;49m\u001b[38;5;124;43m FROM mokytojai;\u001b[39;49m\u001b[38;5;130;43;01m\\n\u001b[39;49;00m\u001b[38;5;124;43m'\u001b[39;49m\u001b[43m)\u001b[49m\n",
      "File \u001b[1;32m~\\Desktop\\PYTHON\\.venv\\lib\\site-packages\\IPython\\core\\interactiveshell.py:2543\u001b[0m, in \u001b[0;36mInteractiveShell.run_cell_magic\u001b[1;34m(self, magic_name, line, cell)\u001b[0m\n\u001b[0;32m   2541\u001b[0m \u001b[38;5;28;01mwith\u001b[39;00m \u001b[38;5;28mself\u001b[39m\u001b[38;5;241m.\u001b[39mbuiltin_trap:\n\u001b[0;32m   2542\u001b[0m     args \u001b[38;5;241m=\u001b[39m (magic_arg_s, cell)\n\u001b[1;32m-> 2543\u001b[0m     result \u001b[38;5;241m=\u001b[39m fn(\u001b[38;5;241m*\u001b[39margs, \u001b[38;5;241m*\u001b[39m\u001b[38;5;241m*\u001b[39mkwargs)\n\u001b[0;32m   2545\u001b[0m \u001b[38;5;66;03m# The code below prevents the output from being displayed\u001b[39;00m\n\u001b[0;32m   2546\u001b[0m \u001b[38;5;66;03m# when using magics with decorator @output_can_be_silenced\u001b[39;00m\n\u001b[0;32m   2547\u001b[0m \u001b[38;5;66;03m# when the last Python token in the expression is a ';'.\u001b[39;00m\n\u001b[0;32m   2548\u001b[0m \u001b[38;5;28;01mif\u001b[39;00m \u001b[38;5;28mgetattr\u001b[39m(fn, magic\u001b[38;5;241m.\u001b[39mMAGIC_OUTPUT_CAN_BE_SILENCED, \u001b[38;5;28;01mFalse\u001b[39;00m):\n",
      "File \u001b[1;32m~\\Desktop\\PYTHON\\.venv\\lib\\site-packages\\sql\\magic.py:219\u001b[0m, in \u001b[0;36mSqlMagic.execute\u001b[1;34m(self, line, cell, local_ns)\u001b[0m\n\u001b[0;32m    216\u001b[0m     \u001b[38;5;28;01mreturn\u001b[39;00m\n\u001b[0;32m    218\u001b[0m \u001b[38;5;28;01mtry\u001b[39;00m:\n\u001b[1;32m--> 219\u001b[0m     result \u001b[38;5;241m=\u001b[39m \u001b[43msql\u001b[49m\u001b[38;5;241;43m.\u001b[39;49m\u001b[43mrun\u001b[49m\u001b[38;5;241;43m.\u001b[39;49m\u001b[43mrun\u001b[49m\u001b[43m(\u001b[49m\u001b[43mconn\u001b[49m\u001b[43m,\u001b[49m\u001b[43m \u001b[49m\u001b[43mparsed\u001b[49m\u001b[43m[\u001b[49m\u001b[38;5;124;43m\"\u001b[39;49m\u001b[38;5;124;43msql\u001b[39;49m\u001b[38;5;124;43m\"\u001b[39;49m\u001b[43m]\u001b[49m\u001b[43m,\u001b[49m\u001b[43m \u001b[49m\u001b[38;5;28;43mself\u001b[39;49m\u001b[43m,\u001b[49m\u001b[43m \u001b[49m\u001b[43muser_ns\u001b[49m\u001b[43m)\u001b[49m\n\u001b[0;32m    221\u001b[0m     \u001b[38;5;28;01mif\u001b[39;00m (\n\u001b[0;32m    222\u001b[0m         result \u001b[38;5;129;01mis\u001b[39;00m \u001b[38;5;129;01mnot\u001b[39;00m \u001b[38;5;28;01mNone\u001b[39;00m\n\u001b[0;32m    223\u001b[0m         \u001b[38;5;129;01mand\u001b[39;00m \u001b[38;5;129;01mnot\u001b[39;00m \u001b[38;5;28misinstance\u001b[39m(result, \u001b[38;5;28mstr\u001b[39m)\n\u001b[1;32m   (...)\u001b[0m\n\u001b[0;32m    226\u001b[0m         \u001b[38;5;66;03m# Instead of returning values, set variables directly in the\u001b[39;00m\n\u001b[0;32m    227\u001b[0m         \u001b[38;5;66;03m# user's namespace. Variable names given by column names\u001b[39;00m\n\u001b[0;32m    229\u001b[0m         \u001b[38;5;28;01mif\u001b[39;00m \u001b[38;5;28mself\u001b[39m\u001b[38;5;241m.\u001b[39mautopandas:\n",
      "File \u001b[1;32m~\\Desktop\\PYTHON\\.venv\\lib\\site-packages\\sql\\run.py:374\u001b[0m, in \u001b[0;36mrun\u001b[1;34m(conn, sql, config, user_namespace)\u001b[0m\n\u001b[0;32m    372\u001b[0m     \u001b[38;5;28;01mif\u001b[39;00m result \u001b[38;5;129;01mand\u001b[39;00m config\u001b[38;5;241m.\u001b[39mfeedback:\n\u001b[0;32m    373\u001b[0m         \u001b[38;5;28mprint\u001b[39m(interpret_rowcount(result\u001b[38;5;241m.\u001b[39mrowcount))\n\u001b[1;32m--> 374\u001b[0m resultset \u001b[38;5;241m=\u001b[39m \u001b[43mResultSet\u001b[49m\u001b[43m(\u001b[49m\u001b[43mresult\u001b[49m\u001b[43m,\u001b[49m\u001b[43m \u001b[49m\u001b[43mconfig\u001b[49m\u001b[43m)\u001b[49m\n\u001b[0;32m    375\u001b[0m \u001b[38;5;28;01mif\u001b[39;00m config\u001b[38;5;241m.\u001b[39mautopandas:\n\u001b[0;32m    376\u001b[0m     \u001b[38;5;28;01mreturn\u001b[39;00m resultset\u001b[38;5;241m.\u001b[39mDataFrame()\n",
      "File \u001b[1;32m~\\Desktop\\PYTHON\\.venv\\lib\\site-packages\\sql\\run.py:116\u001b[0m, in \u001b[0;36mResultSet.__init__\u001b[1;34m(self, sqlaproxy, config)\u001b[0m\n\u001b[0;32m    114\u001b[0m         \u001b[38;5;28mlist\u001b[39m\u001b[38;5;241m.\u001b[39m\u001b[38;5;21m__init__\u001b[39m(\u001b[38;5;28mself\u001b[39m, sqlaproxy\u001b[38;5;241m.\u001b[39mfetchall())\n\u001b[0;32m    115\u001b[0m     \u001b[38;5;28mself\u001b[39m\u001b[38;5;241m.\u001b[39mfield_names \u001b[38;5;241m=\u001b[39m unduplicate_field_names(\u001b[38;5;28mself\u001b[39m\u001b[38;5;241m.\u001b[39mkeys)\n\u001b[1;32m--> 116\u001b[0m     \u001b[38;5;28mself\u001b[39m\u001b[38;5;241m.\u001b[39mpretty \u001b[38;5;241m=\u001b[39m PrettyTable(\u001b[38;5;28mself\u001b[39m\u001b[38;5;241m.\u001b[39mfield_names, style\u001b[38;5;241m=\u001b[39m\u001b[43mprettytable\u001b[49m\u001b[38;5;241;43m.\u001b[39;49m\u001b[38;5;18;43m__dict__\u001b[39;49m\u001b[43m[\u001b[49m\u001b[43mconfig\u001b[49m\u001b[38;5;241;43m.\u001b[39;49m\u001b[43mstyle\u001b[49m\u001b[38;5;241;43m.\u001b[39;49m\u001b[43mupper\u001b[49m\u001b[43m(\u001b[49m\u001b[43m)\u001b[49m\u001b[43m]\u001b[49m)\n\u001b[0;32m    117\u001b[0m \u001b[38;5;28;01melse\u001b[39;00m:\n\u001b[0;32m    118\u001b[0m     \u001b[38;5;28mlist\u001b[39m\u001b[38;5;241m.\u001b[39m\u001b[38;5;21m__init__\u001b[39m(\u001b[38;5;28mself\u001b[39m, [])\n",
      "\u001b[1;31mKeyError\u001b[0m: 'DEFAULT'"
     ]
    }
   ],
   "source": [
    "%%sql\n",
    "SELECT vardas || ' ' || pavarde AS \"Pilnas Vardas\" FROM mokytojai;\n"
   ]
  },
  {
   "cell_type": "code",
   "execution_count": 14,
   "id": "40117bc1-51c8-41fe-94a6-af9ad89a8605",
   "metadata": {},
   "outputs": [
    {
     "ename": "ModuleNotFoundError",
     "evalue": "No module named 'sql.config'",
     "output_type": "error",
     "traceback": [
      "\u001b[1;31m---------------------------------------------------------------------------\u001b[0m",
      "\u001b[1;31mModuleNotFoundError\u001b[0m                       Traceback (most recent call last)",
      "Cell \u001b[1;32mIn[14], line 3\u001b[0m\n\u001b[0;32m      1\u001b[0m \u001b[38;5;28;01mimport\u001b[39;00m\u001b[38;5;250m \u001b[39m\u001b[38;5;21;01mprettytable\u001b[39;00m\n\u001b[0;32m      2\u001b[0m \u001b[38;5;28;01mfrom\u001b[39;00m\u001b[38;5;250m \u001b[39m\u001b[38;5;21;01msql\u001b[39;00m\u001b[38;5;21;01m.\u001b[39;00m\u001b[38;5;21;01mrun\u001b[39;00m\u001b[38;5;250m \u001b[39m\u001b[38;5;28;01mimport\u001b[39;00m ResultSet\n\u001b[1;32m----> 3\u001b[0m \u001b[38;5;28;01mfrom\u001b[39;00m\u001b[38;5;250m \u001b[39m\u001b[38;5;21;01msql\u001b[39;00m\u001b[38;5;21;01m.\u001b[39;00m\u001b[38;5;21;01mconfig\u001b[39;00m\u001b[38;5;250m \u001b[39m\u001b[38;5;28;01mimport\u001b[39;00m SQLConfig\n\u001b[0;32m      5\u001b[0m \u001b[38;5;66;03m# Išjungiame `DEFAULT` stiliaus naudojimą\u001b[39;00m\n\u001b[0;32m      6\u001b[0m config \u001b[38;5;241m=\u001b[39m SQLConfig()\n",
      "\u001b[1;31mModuleNotFoundError\u001b[0m: No module named 'sql.config'"
     ]
    }
   ],
   "source": [
    "import prettytable\n",
    "from sql.run import ResultSet\n",
    "from sql.config import SQLConfig\n",
    "\n",
    "# Išjungiame `DEFAULT` stiliaus naudojimą\n",
    "config = SQLConfig()\n",
    "config.style = None\n",
    "\n",
    "# Rankiniu būdu nustatome tinkamą lentelės stilių\n",
    "ResultSet.prettytable = prettytable.PrettyTable()\n",
    "ResultSet.prettytable.set_style(prettytable.SINGLE_BORDER)\n"
   ]
  },
  {
   "cell_type": "code",
   "execution_count": 15,
   "id": "77c5207d-97f2-4d72-927c-a832da882d22",
   "metadata": {},
   "outputs": [
    {
     "name": "stderr",
     "output_type": "stream",
     "text": [
      "C:\\Users\\Mindaugas\\AppData\\Local\\Temp\\ipykernel_3524\\526026686.py:6: DeprecationWarning: the 'SINGLE_BORDER' constant is deprecated, use the 'TableStyle' enum instead\n",
      "  ResultSet.prettytable.set_style(prettytable.SINGLE_BORDER)\n"
     ]
    }
   ],
   "source": [
    "import prettytable\n",
    "from sql.run import ResultSet\n",
    "\n",
    "# Pakeičiame `DEFAULT` stilių į `SINGLE_BORDER`\n",
    "ResultSet.prettytable = prettytable.PrettyTable()\n",
    "ResultSet.prettytable.set_style(prettytable.SINGLE_BORDER)\n",
    "\n"
   ]
  },
  {
   "cell_type": "code",
   "execution_count": 16,
   "id": "5a0c9019-eee1-43a9-a626-a059012eb377",
   "metadata": {},
   "outputs": [],
   "source": [
    "import sql\n",
    "sql.run.prettyprint = False\n"
   ]
  },
  {
   "cell_type": "code",
   "execution_count": 17,
   "id": "9c2957c7-6a67-43b4-a27d-b1d9c9e2626c",
   "metadata": {},
   "outputs": [
    {
     "name": "stdout",
     "output_type": "stream",
     "text": [
      "0.5.0\n"
     ]
    },
    {
     "name": "stderr",
     "output_type": "stream",
     "text": [
      "C:\\Users\\Mindaugas\\AppData\\Local\\Temp\\ipykernel_3524\\3151076162.py:1: DeprecationWarning: pkg_resources is deprecated as an API. See https://setuptools.pypa.io/en/latest/pkg_resources.html\n",
      "  import pkg_resources\n"
     ]
    }
   ],
   "source": [
    "import pkg_resources\n",
    "print(pkg_resources.get_distribution(\"ipython-sql\").version)\n"
   ]
  },
  {
   "cell_type": "code",
   "execution_count": 18,
   "id": "e804c682-5afa-4da6-b208-f01343e0b03a",
   "metadata": {},
   "outputs": [
    {
     "name": "stdout",
     "output_type": "stream",
     "text": [
      "Requirement already satisfied: ipython-sql in c:\\users\\mindaugas\\desktop\\python\\.venv\\lib\\site-packages (0.5.0)\n",
      "Requirement already satisfied: prettytable in c:\\users\\mindaugas\\desktop\\python\\.venv\\lib\\site-packages (from ipython-sql) (3.14.0)\n",
      "Requirement already satisfied: ipython in c:\\users\\mindaugas\\desktop\\python\\.venv\\lib\\site-packages (from ipython-sql) (8.32.0)\n",
      "Requirement already satisfied: sqlalchemy>=2.0 in c:\\users\\mindaugas\\desktop\\python\\.venv\\lib\\site-packages (from ipython-sql) (2.0.38)\n",
      "Requirement already satisfied: sqlparse in c:\\users\\mindaugas\\desktop\\python\\.venv\\lib\\site-packages (from ipython-sql) (0.5.3)\n",
      "Requirement already satisfied: six in c:\\users\\mindaugas\\desktop\\python\\.venv\\lib\\site-packages (from ipython-sql) (1.17.0)\n",
      "Requirement already satisfied: ipython-genutils in c:\\users\\mindaugas\\desktop\\python\\.venv\\lib\\site-packages (from ipython-sql) (0.2.0)\n",
      "Requirement already satisfied: greenlet!=0.4.17 in c:\\users\\mindaugas\\desktop\\python\\.venv\\lib\\site-packages (from sqlalchemy>=2.0->ipython-sql) (3.1.1)\n",
      "Requirement already satisfied: typing-extensions>=4.6.0 in c:\\users\\mindaugas\\desktop\\python\\.venv\\lib\\site-packages (from sqlalchemy>=2.0->ipython-sql) (4.12.2)\n",
      "Requirement already satisfied: colorama in c:\\users\\mindaugas\\desktop\\python\\.venv\\lib\\site-packages (from ipython->ipython-sql) (0.4.6)\n",
      "Requirement already satisfied: decorator in c:\\users\\mindaugas\\desktop\\python\\.venv\\lib\\site-packages (from ipython->ipython-sql) (5.1.1)\n",
      "Requirement already satisfied: exceptiongroup in c:\\users\\mindaugas\\desktop\\python\\.venv\\lib\\site-packages (from ipython->ipython-sql) (1.2.2)\n",
      "Requirement already satisfied: jedi>=0.16 in c:\\users\\mindaugas\\desktop\\python\\.venv\\lib\\site-packages (from ipython->ipython-sql) (0.19.2)\n",
      "Requirement already satisfied: matplotlib-inline in c:\\users\\mindaugas\\desktop\\python\\.venv\\lib\\site-packages (from ipython->ipython-sql) (0.1.7)\n",
      "Requirement already satisfied: prompt_toolkit<3.1.0,>=3.0.41 in c:\\users\\mindaugas\\desktop\\python\\.venv\\lib\\site-packages (from ipython->ipython-sql) (3.0.50)\n",
      "Requirement already satisfied: pygments>=2.4.0 in c:\\users\\mindaugas\\desktop\\python\\.venv\\lib\\site-packages (from ipython->ipython-sql) (2.19.1)\n",
      "Requirement already satisfied: stack_data in c:\\users\\mindaugas\\desktop\\python\\.venv\\lib\\site-packages (from ipython->ipython-sql) (0.6.3)\n",
      "Requirement already satisfied: traitlets>=5.13.0 in c:\\users\\mindaugas\\desktop\\python\\.venv\\lib\\site-packages (from ipython->ipython-sql) (5.14.3)\n",
      "Requirement already satisfied: wcwidth in c:\\users\\mindaugas\\desktop\\python\\.venv\\lib\\site-packages (from prettytable->ipython-sql) (0.2.13)\n",
      "Requirement already satisfied: parso<0.9.0,>=0.8.4 in c:\\users\\mindaugas\\desktop\\python\\.venv\\lib\\site-packages (from jedi>=0.16->ipython->ipython-sql) (0.8.4)\n",
      "Requirement already satisfied: executing>=1.2.0 in c:\\users\\mindaugas\\desktop\\python\\.venv\\lib\\site-packages (from stack_data->ipython->ipython-sql) (2.2.0)\n",
      "Requirement already satisfied: asttokens>=2.1.0 in c:\\users\\mindaugas\\desktop\\python\\.venv\\lib\\site-packages (from stack_data->ipython->ipython-sql) (3.0.0)\n",
      "Requirement already satisfied: pure-eval in c:\\users\\mindaugas\\desktop\\python\\.venv\\lib\\site-packages (from stack_data->ipython->ipython-sql) (0.2.3)\n",
      "Note: you may need to restart the kernel to use updated packages.\n"
     ]
    }
   ],
   "source": [
    "pip install --upgrade ipython-sql\n"
   ]
  },
  {
   "cell_type": "code",
   "execution_count": 19,
   "id": "06a12b88-99a0-4a0b-b954-624ba7a2790d",
   "metadata": {},
   "outputs": [],
   "source": [
    "ResultSet.prettytable.set_style(prettytable.SINGLE_BORDER)\n"
   ]
  },
  {
   "cell_type": "code",
   "execution_count": 20,
   "id": "beb8f88c-2c7e-4fb1-a676-554fc5170a99",
   "metadata": {},
   "outputs": [],
   "source": [
    "import sql\n",
    "sql.run.prettyprint = False\n"
   ]
  },
  {
   "cell_type": "code",
   "execution_count": 21,
   "id": "7ba96546-7aa6-4b89-925f-96e8e20c8e30",
   "metadata": {},
   "outputs": [
    {
     "name": "stdout",
     "output_type": "stream",
     "text": [
      "Requirement already satisfied: ipython-sql in c:\\users\\mindaugas\\desktop\\python\\.venv\\lib\\site-packages (0.5.0)\n",
      "Requirement already satisfied: prettytable in c:\\users\\mindaugas\\desktop\\python\\.venv\\lib\\site-packages (from ipython-sql) (3.14.0)\n",
      "Requirement already satisfied: ipython in c:\\users\\mindaugas\\desktop\\python\\.venv\\lib\\site-packages (from ipython-sql) (8.32.0)\n",
      "Requirement already satisfied: sqlalchemy>=2.0 in c:\\users\\mindaugas\\desktop\\python\\.venv\\lib\\site-packages (from ipython-sql) (2.0.38)\n",
      "Requirement already satisfied: sqlparse in c:\\users\\mindaugas\\desktop\\python\\.venv\\lib\\site-packages (from ipython-sql) (0.5.3)\n",
      "Requirement already satisfied: six in c:\\users\\mindaugas\\desktop\\python\\.venv\\lib\\site-packages (from ipython-sql) (1.17.0)\n",
      "Requirement already satisfied: ipython-genutils in c:\\users\\mindaugas\\desktop\\python\\.venv\\lib\\site-packages (from ipython-sql) (0.2.0)\n",
      "Requirement already satisfied: greenlet!=0.4.17 in c:\\users\\mindaugas\\desktop\\python\\.venv\\lib\\site-packages (from sqlalchemy>=2.0->ipython-sql) (3.1.1)\n",
      "Requirement already satisfied: typing-extensions>=4.6.0 in c:\\users\\mindaugas\\desktop\\python\\.venv\\lib\\site-packages (from sqlalchemy>=2.0->ipython-sql) (4.12.2)\n",
      "Requirement already satisfied: colorama in c:\\users\\mindaugas\\desktop\\python\\.venv\\lib\\site-packages (from ipython->ipython-sql) (0.4.6)\n",
      "Requirement already satisfied: decorator in c:\\users\\mindaugas\\desktop\\python\\.venv\\lib\\site-packages (from ipython->ipython-sql) (5.1.1)\n",
      "Requirement already satisfied: exceptiongroup in c:\\users\\mindaugas\\desktop\\python\\.venv\\lib\\site-packages (from ipython->ipython-sql) (1.2.2)\n",
      "Requirement already satisfied: jedi>=0.16 in c:\\users\\mindaugas\\desktop\\python\\.venv\\lib\\site-packages (from ipython->ipython-sql) (0.19.2)\n",
      "Requirement already satisfied: matplotlib-inline in c:\\users\\mindaugas\\desktop\\python\\.venv\\lib\\site-packages (from ipython->ipython-sql) (0.1.7)\n",
      "Requirement already satisfied: prompt_toolkit<3.1.0,>=3.0.41 in c:\\users\\mindaugas\\desktop\\python\\.venv\\lib\\site-packages (from ipython->ipython-sql) (3.0.50)\n",
      "Requirement already satisfied: pygments>=2.4.0 in c:\\users\\mindaugas\\desktop\\python\\.venv\\lib\\site-packages (from ipython->ipython-sql) (2.19.1)\n",
      "Requirement already satisfied: stack_data in c:\\users\\mindaugas\\desktop\\python\\.venv\\lib\\site-packages (from ipython->ipython-sql) (0.6.3)\n",
      "Requirement already satisfied: traitlets>=5.13.0 in c:\\users\\mindaugas\\desktop\\python\\.venv\\lib\\site-packages (from ipython->ipython-sql) (5.14.3)\n",
      "Requirement already satisfied: wcwidth in c:\\users\\mindaugas\\desktop\\python\\.venv\\lib\\site-packages (from prettytable->ipython-sql) (0.2.13)\n",
      "Requirement already satisfied: parso<0.9.0,>=0.8.4 in c:\\users\\mindaugas\\desktop\\python\\.venv\\lib\\site-packages (from jedi>=0.16->ipython->ipython-sql) (0.8.4)\n",
      "Requirement already satisfied: executing>=1.2.0 in c:\\users\\mindaugas\\desktop\\python\\.venv\\lib\\site-packages (from stack_data->ipython->ipython-sql) (2.2.0)\n",
      "Requirement already satisfied: asttokens>=2.1.0 in c:\\users\\mindaugas\\desktop\\python\\.venv\\lib\\site-packages (from stack_data->ipython->ipython-sql) (3.0.0)\n",
      "Requirement already satisfied: pure-eval in c:\\users\\mindaugas\\desktop\\python\\.venv\\lib\\site-packages (from stack_data->ipython->ipython-sql) (0.2.3)\n",
      "Note: you may need to restart the kernel to use updated packages.\n"
     ]
    }
   ],
   "source": [
    "pip install --upgrade ipython-sql\n"
   ]
  },
  {
   "cell_type": "code",
   "execution_count": 22,
   "id": "cddcadea-161c-4e4b-9f15-27b123f74f69",
   "metadata": {},
   "outputs": [
    {
     "name": "stdout",
     "output_type": "stream",
     "text": [
      "The sql extension is already loaded. To reload it, use:\n",
      "  %reload_ext sql\n"
     ]
    }
   ],
   "source": [
    "%load_ext sql"
   ]
  },
  {
   "cell_type": "code",
   "execution_count": 23,
   "id": "aa8ef4e8-6747-4cc6-b207-5ed84a1dd2e5",
   "metadata": {},
   "outputs": [
    {
     "name": "stdout",
     "output_type": "stream",
     "text": [
      "The sql extension is already loaded. To reload it, use:\n",
      "  %reload_ext sql\n"
     ]
    }
   ],
   "source": [
    "%load_ext sql\n",
    "%sql sqlite:///mokytojai.db\n"
   ]
  },
  {
   "cell_type": "code",
   "execution_count": 24,
   "id": "4a431065-4a7e-43ff-836f-9a276c1d4757",
   "metadata": {},
   "outputs": [],
   "source": [
    "import prettytable\n",
    "from sql.run import ResultSet\n",
    "\n",
    "# Nustatome lentelės stilių\n",
    "ResultSet.prettytable = prettytable.PrettyTable()\n",
    "ResultSet.prettytable.set_style(prettytable.SINGLE_BORDER)\n"
   ]
  },
  {
   "cell_type": "code",
   "execution_count": 25,
   "id": "5d2e43ac-24d0-4bb5-8d38-10fb986f1fea",
   "metadata": {},
   "outputs": [
    {
     "name": "stdout",
     "output_type": "stream",
     "text": [
      " * sqlite:///mokytojai.db\n",
      "Done.\n",
      "Done.\n"
     ]
    },
    {
     "data": {
      "text/plain": [
       "[]"
      ]
     },
     "execution_count": 25,
     "metadata": {},
     "output_type": "execute_result"
    }
   ],
   "source": [
    "%%sql\n",
    "DROP TABLE IF EXISTS mokytojai;\n",
    "\n",
    "CREATE TABLE mokytojai (\n",
    "    id INTEGER PRIMARY KEY AUTOINCREMENT,\n",
    "    vardas TEXT,\n",
    "    pavarde TEXT,\n",
    "    destomas_dalykas TEXT,\n",
    "    atlyginimas REAL\n",
    ");\n"
   ]
  },
  {
   "cell_type": "code",
   "execution_count": 26,
   "id": "86cc53e5-2aba-4a38-8e22-6f2ded0505b4",
   "metadata": {},
   "outputs": [
    {
     "name": "stdout",
     "output_type": "stream",
     "text": [
      " * sqlite:///mokytojai.db\n",
      "4 rows affected.\n"
     ]
    },
    {
     "data": {
      "text/plain": [
       "[]"
      ]
     },
     "execution_count": 26,
     "metadata": {},
     "output_type": "execute_result"
    }
   ],
   "source": [
    "%%sql\n",
    "INSERT INTO mokytojai (vardas, pavarde, destomas_dalykas, atlyginimas) VALUES\n",
    "('Jonas', 'Jonaitis', 'Matematika', 1500),\n",
    "('Petras', 'Petraitis', 'Fizika', 1800),\n",
    "('Ona', 'Onaitytė', 'Lietuvių kalba', 1600),\n",
    "('Rasa', 'Rasaitė', 'Istorija', 1750);\n"
   ]
  },
  {
   "cell_type": "code",
   "execution_count": 27,
   "id": "f72e8d14-57f3-4256-affd-0820d913c0ae",
   "metadata": {},
   "outputs": [
    {
     "name": "stdout",
     "output_type": "stream",
     "text": [
      " * sqlite:///mokytojai.db\n",
      "Done.\n"
     ]
    },
    {
     "ename": "KeyError",
     "evalue": "'DEFAULT'",
     "output_type": "error",
     "traceback": [
      "\u001b[1;31m---------------------------------------------------------------------------\u001b[0m",
      "\u001b[1;31mKeyError\u001b[0m                                  Traceback (most recent call last)",
      "Cell \u001b[1;32mIn[27], line 1\u001b[0m\n\u001b[1;32m----> 1\u001b[0m \u001b[43mget_ipython\u001b[49m\u001b[43m(\u001b[49m\u001b[43m)\u001b[49m\u001b[38;5;241;43m.\u001b[39;49m\u001b[43mrun_cell_magic\u001b[49m\u001b[43m(\u001b[49m\u001b[38;5;124;43m'\u001b[39;49m\u001b[38;5;124;43msql\u001b[39;49m\u001b[38;5;124;43m'\u001b[39;49m\u001b[43m,\u001b[49m\u001b[43m \u001b[49m\u001b[38;5;124;43m'\u001b[39;49m\u001b[38;5;124;43m'\u001b[39;49m\u001b[43m,\u001b[49m\u001b[43m \u001b[49m\u001b[38;5;124;43m'\u001b[39;49m\u001b[38;5;124;43mSELECT * FROM mokytojai;\u001b[39;49m\u001b[38;5;130;43;01m\\n\u001b[39;49;00m\u001b[38;5;124;43m'\u001b[39;49m\u001b[43m)\u001b[49m\n",
      "File \u001b[1;32m~\\Desktop\\PYTHON\\.venv\\lib\\site-packages\\IPython\\core\\interactiveshell.py:2543\u001b[0m, in \u001b[0;36mInteractiveShell.run_cell_magic\u001b[1;34m(self, magic_name, line, cell)\u001b[0m\n\u001b[0;32m   2541\u001b[0m \u001b[38;5;28;01mwith\u001b[39;00m \u001b[38;5;28mself\u001b[39m\u001b[38;5;241m.\u001b[39mbuiltin_trap:\n\u001b[0;32m   2542\u001b[0m     args \u001b[38;5;241m=\u001b[39m (magic_arg_s, cell)\n\u001b[1;32m-> 2543\u001b[0m     result \u001b[38;5;241m=\u001b[39m fn(\u001b[38;5;241m*\u001b[39margs, \u001b[38;5;241m*\u001b[39m\u001b[38;5;241m*\u001b[39mkwargs)\n\u001b[0;32m   2545\u001b[0m \u001b[38;5;66;03m# The code below prevents the output from being displayed\u001b[39;00m\n\u001b[0;32m   2546\u001b[0m \u001b[38;5;66;03m# when using magics with decorator @output_can_be_silenced\u001b[39;00m\n\u001b[0;32m   2547\u001b[0m \u001b[38;5;66;03m# when the last Python token in the expression is a ';'.\u001b[39;00m\n\u001b[0;32m   2548\u001b[0m \u001b[38;5;28;01mif\u001b[39;00m \u001b[38;5;28mgetattr\u001b[39m(fn, magic\u001b[38;5;241m.\u001b[39mMAGIC_OUTPUT_CAN_BE_SILENCED, \u001b[38;5;28;01mFalse\u001b[39;00m):\n",
      "File \u001b[1;32m~\\Desktop\\PYTHON\\.venv\\lib\\site-packages\\sql\\magic.py:219\u001b[0m, in \u001b[0;36mSqlMagic.execute\u001b[1;34m(self, line, cell, local_ns)\u001b[0m\n\u001b[0;32m    216\u001b[0m     \u001b[38;5;28;01mreturn\u001b[39;00m\n\u001b[0;32m    218\u001b[0m \u001b[38;5;28;01mtry\u001b[39;00m:\n\u001b[1;32m--> 219\u001b[0m     result \u001b[38;5;241m=\u001b[39m \u001b[43msql\u001b[49m\u001b[38;5;241;43m.\u001b[39;49m\u001b[43mrun\u001b[49m\u001b[38;5;241;43m.\u001b[39;49m\u001b[43mrun\u001b[49m\u001b[43m(\u001b[49m\u001b[43mconn\u001b[49m\u001b[43m,\u001b[49m\u001b[43m \u001b[49m\u001b[43mparsed\u001b[49m\u001b[43m[\u001b[49m\u001b[38;5;124;43m\"\u001b[39;49m\u001b[38;5;124;43msql\u001b[39;49m\u001b[38;5;124;43m\"\u001b[39;49m\u001b[43m]\u001b[49m\u001b[43m,\u001b[49m\u001b[43m \u001b[49m\u001b[38;5;28;43mself\u001b[39;49m\u001b[43m,\u001b[49m\u001b[43m \u001b[49m\u001b[43muser_ns\u001b[49m\u001b[43m)\u001b[49m\n\u001b[0;32m    221\u001b[0m     \u001b[38;5;28;01mif\u001b[39;00m (\n\u001b[0;32m    222\u001b[0m         result \u001b[38;5;129;01mis\u001b[39;00m \u001b[38;5;129;01mnot\u001b[39;00m \u001b[38;5;28;01mNone\u001b[39;00m\n\u001b[0;32m    223\u001b[0m         \u001b[38;5;129;01mand\u001b[39;00m \u001b[38;5;129;01mnot\u001b[39;00m \u001b[38;5;28misinstance\u001b[39m(result, \u001b[38;5;28mstr\u001b[39m)\n\u001b[1;32m   (...)\u001b[0m\n\u001b[0;32m    226\u001b[0m         \u001b[38;5;66;03m# Instead of returning values, set variables directly in the\u001b[39;00m\n\u001b[0;32m    227\u001b[0m         \u001b[38;5;66;03m# user's namespace. Variable names given by column names\u001b[39;00m\n\u001b[0;32m    229\u001b[0m         \u001b[38;5;28;01mif\u001b[39;00m \u001b[38;5;28mself\u001b[39m\u001b[38;5;241m.\u001b[39mautopandas:\n",
      "File \u001b[1;32m~\\Desktop\\PYTHON\\.venv\\lib\\site-packages\\sql\\run.py:374\u001b[0m, in \u001b[0;36mrun\u001b[1;34m(conn, sql, config, user_namespace)\u001b[0m\n\u001b[0;32m    372\u001b[0m     \u001b[38;5;28;01mif\u001b[39;00m result \u001b[38;5;129;01mand\u001b[39;00m config\u001b[38;5;241m.\u001b[39mfeedback:\n\u001b[0;32m    373\u001b[0m         \u001b[38;5;28mprint\u001b[39m(interpret_rowcount(result\u001b[38;5;241m.\u001b[39mrowcount))\n\u001b[1;32m--> 374\u001b[0m resultset \u001b[38;5;241m=\u001b[39m \u001b[43mResultSet\u001b[49m\u001b[43m(\u001b[49m\u001b[43mresult\u001b[49m\u001b[43m,\u001b[49m\u001b[43m \u001b[49m\u001b[43mconfig\u001b[49m\u001b[43m)\u001b[49m\n\u001b[0;32m    375\u001b[0m \u001b[38;5;28;01mif\u001b[39;00m config\u001b[38;5;241m.\u001b[39mautopandas:\n\u001b[0;32m    376\u001b[0m     \u001b[38;5;28;01mreturn\u001b[39;00m resultset\u001b[38;5;241m.\u001b[39mDataFrame()\n",
      "File \u001b[1;32m~\\Desktop\\PYTHON\\.venv\\lib\\site-packages\\sql\\run.py:116\u001b[0m, in \u001b[0;36mResultSet.__init__\u001b[1;34m(self, sqlaproxy, config)\u001b[0m\n\u001b[0;32m    114\u001b[0m         \u001b[38;5;28mlist\u001b[39m\u001b[38;5;241m.\u001b[39m\u001b[38;5;21m__init__\u001b[39m(\u001b[38;5;28mself\u001b[39m, sqlaproxy\u001b[38;5;241m.\u001b[39mfetchall())\n\u001b[0;32m    115\u001b[0m     \u001b[38;5;28mself\u001b[39m\u001b[38;5;241m.\u001b[39mfield_names \u001b[38;5;241m=\u001b[39m unduplicate_field_names(\u001b[38;5;28mself\u001b[39m\u001b[38;5;241m.\u001b[39mkeys)\n\u001b[1;32m--> 116\u001b[0m     \u001b[38;5;28mself\u001b[39m\u001b[38;5;241m.\u001b[39mpretty \u001b[38;5;241m=\u001b[39m PrettyTable(\u001b[38;5;28mself\u001b[39m\u001b[38;5;241m.\u001b[39mfield_names, style\u001b[38;5;241m=\u001b[39m\u001b[43mprettytable\u001b[49m\u001b[38;5;241;43m.\u001b[39;49m\u001b[38;5;18;43m__dict__\u001b[39;49m\u001b[43m[\u001b[49m\u001b[43mconfig\u001b[49m\u001b[38;5;241;43m.\u001b[39;49m\u001b[43mstyle\u001b[49m\u001b[38;5;241;43m.\u001b[39;49m\u001b[43mupper\u001b[49m\u001b[43m(\u001b[49m\u001b[43m)\u001b[49m\u001b[43m]\u001b[49m)\n\u001b[0;32m    117\u001b[0m \u001b[38;5;28;01melse\u001b[39;00m:\n\u001b[0;32m    118\u001b[0m     \u001b[38;5;28mlist\u001b[39m\u001b[38;5;241m.\u001b[39m\u001b[38;5;21m__init__\u001b[39m(\u001b[38;5;28mself\u001b[39m, [])\n",
      "\u001b[1;31mKeyError\u001b[0m: 'DEFAULT'"
     ]
    }
   ],
   "source": [
    "%%sql\n",
    "SELECT * FROM mokytojai;\n"
   ]
  },
  {
   "cell_type": "code",
   "execution_count": null,
   "id": "023f1f68-7ada-4257-b589-9e834726feda",
   "metadata": {},
   "outputs": [],
   "source": []
  }
 ],
 "metadata": {
  "kernelspec": {
   "display_name": "Python 3 (ipykernel)",
   "language": "python",
   "name": "python3"
  },
  "language_info": {
   "codemirror_mode": {
    "name": "ipython",
    "version": 3
   },
   "file_extension": ".py",
   "mimetype": "text/x-python",
   "name": "python",
   "nbconvert_exporter": "python",
   "pygments_lexer": "ipython3",
   "version": "3.10.11"
  }
 },
 "nbformat": 4,
 "nbformat_minor": 5
}
